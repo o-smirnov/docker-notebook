{
 "cells": [
  {
   "cell_type": "markdown",
   "metadata": {},
   "source": [
    "# Introduction"
   ]
  },
  {
   "cell_type": "markdown",
   "metadata": {},
   "source": [
    "Welcome to the radio astronomy ipython notebook docker container.\n",
    "\n",
    "The source code of the container including the notebooks is stored in github:\n",
    "    \n",
    "https://github.com/radio-astro/docker-notebook\n",
    "    \n",
    "Since you are already running this notebook you probably know how to use this,\n",
    "but in case you don't you can start the container with:\n",
    "\n",
    "    $ docker run -p 8888:8888 radioastro/notebook\n",
    "        \n",
    "Where the -p maps ipython notebook webserver to a local TCP port, change it if\n",
    "needed. This will download the docker container and run it. You can also build\n",
    "it by hand by checking out the git repository from above URL and running 'make'\n",
    "inside the checkout folder. \n",
    "\n",
    "If you want to load different datasets into the container I suggest you mount\n",
    "that folder inside the container:\n",
    "    \n",
    "    $ docker run -p 8888:8888 -v /scratch/dataset:/data:ro radioastro/notebook\n",
    "                \n",
    "The RO flag makes sure the container doesn't modify your data. \n",
    "\n",
    "Note that the changes you do to the notebooks are not saved, if you want to\n",
    "make the changes to the containers persistent please use a custom notebooks\n",
    "folder:\n",
    "    \n",
    "    $ docker run -p 8888:8888 -v `pwd`/notebooks:/notebooks radioastro/notebook\n",
    "            "
   ]
  }
 ],
 "metadata": {
  "kernelspec": {
   "display_name": "Python 2",
   "language": "python",
   "name": "python2"
  },
  "language_info": {
   "codemirror_mode": {
    "name": "ipython",
    "version": 2
   },
   "file_extension": ".py",
   "mimetype": "text/x-python",
   "name": "python",
   "nbconvert_exporter": "python",
   "pygments_lexer": "ipython2",
   "version": "2.7.6"
  }
 },
 "nbformat": 4,
 "nbformat_minor": 0
}
