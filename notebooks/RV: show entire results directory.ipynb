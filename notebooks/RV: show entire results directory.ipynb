{
 "cells": [
  {
   "cell_type": "markdown",
   "metadata": {},
   "source": [
    "# RV notebook to show the entire results directory\n",
    "\n",
    "The examples below show how to use the rv machinery. The initialization block below (between \"####\") is mandatory.\n",
    "\n",
    "You must select \"Cell|Run All\" from the above menu to re-run the notebook , and wait for it to finish running.\n",
    "\n",
    "This particular notebook is built for the example results directory that can be downloaded from Dropbox, use this link to download example-reduction-dir from Dropbox:\n",
    "https://www.dropbox.com/sh/hde4azjdscsw20c/AAB2M0w3Ttm4ioPI0bccOPE-a?dl=0\n",
    "\n",
    "Then do \"cd example-reduction-dir; run-rv-notebook.sh\" inside your copy of the results directory to start the notebook server and point your browser to the port indicated by the script."
   ]
  },
  {
   "cell_type": "code",
   "execution_count": 19,
   "metadata": {
    "collapsed": false,
    "scrolled": true
   },
   "outputs": [],
   "source": [
    "### MANDATORY INIT ###\n",
    "%matplotlib inline\n",
    "%run /notebooks/rvnb_init\n",
    "dirs = DirList()\n",
    "######################\n",
    "# adjust to fit your screen if tables below are too narrow or too wide\n",
    "pandas.options.display.max_colwidth = 80  \n"
   ]
  },
  {
   "cell_type": "code",
   "execution_count": 23,
   "metadata": {
    "collapsed": false
   },
   "outputs": [
    {
     "data": {
      "text/plain": [
       "'/data'"
      ]
     },
     "execution_count": 23,
     "metadata": {},
     "output_type": "execute_result"
    }
   ],
   "source": [
    "# dirs is a directory list object\n",
    "# By default displays all directories under your results directory \n",
    "# dirs.show() will have the same effect\n",
    "dirs[0].fullpath"
   ]
  },
  {
   "cell_type": "code",
   "execution_count": 13,
   "metadata": {
    "collapsed": false
   },
   "outputs": [
    {
     "data": {
      "text/html": [
       "<h4>FITS files, unknown/</h4>"
      ],
      "text/plain": [
       "[]"
      ]
     },
     "execution_count": 13,
     "metadata": {},
     "output_type": "execute_result"
    }
   ],
   "source": [
    "dirs[0].fits  # gives list of FITS files in directory #0 above"
   ]
  },
  {
   "cell_type": "code",
   "execution_count": 14,
   "metadata": {
    "collapsed": false
   },
   "outputs": [],
   "source": [
    "# displays thumbnails for all FITS files in directory #0\n",
    "dirs[0].fits.thumbs()"
   ]
  },
  {
   "cell_type": "code",
   "execution_count": 15,
   "metadata": {
    "collapsed": false
   },
   "outputs": [],
   "source": [
    "dirs[0].fits.thumbs(zoom=2)"
   ]
  },
  {
   "cell_type": "code",
   "execution_count": 16,
   "metadata": {
    "collapsed": false
   },
   "outputs": [
    {
     "data": {
      "text/html": [
       "<h4>FITS files, unknown/*s7*</h4>"
      ],
      "text/plain": [
       "[]"
      ]
     },
     "execution_count": 16,
     "metadata": {},
     "output_type": "execute_result"
    }
   ],
   "source": [
    "# gives list of FITS files matching the pattern\n",
    "dirs[0].fits(\"*s7*\")"
   ]
  },
  {
   "cell_type": "code",
   "execution_count": 17,
   "metadata": {
    "collapsed": false
   },
   "outputs": [
    {
     "data": {
      "text/html": [
       "<h4>FITS files, unknown/*s7*</h4>"
      ],
      "text/plain": [
       "[]"
      ]
     },
     "metadata": {},
     "output_type": "display_data"
    }
   ],
   "source": [
    "dirs[0].fits(\"*s7*\").show()\n",
    "dirs[0].fits(\"*s7*\").thumbs()"
   ]
  },
  {
   "cell_type": "code",
   "execution_count": 18,
   "metadata": {
    "collapsed": false
   },
   "outputs": [
    {
     "ename": "IndexError",
     "evalue": "list index out of range",
     "output_type": "error",
     "traceback": [
      "\u001b[1;31m---------------------------------------------------------------------------\u001b[0m",
      "\u001b[1;31mIndexError\u001b[0m                                Traceback (most recent call last)",
      "\u001b[1;32m<ipython-input-18-c59cee4ee154>\u001b[0m in \u001b[0;36m<module>\u001b[1;34m()\u001b[0m\n\u001b[0;32m      1\u001b[0m \u001b[1;31m# list of images (PNG, JPG, etc.) in directory #3\u001b[0m\u001b[1;33m\u001b[0m\u001b[1;33m\u001b[0m\u001b[0m\n\u001b[1;32m----> 2\u001b[1;33m \u001b[0mdirs\u001b[0m\u001b[1;33m[\u001b[0m\u001b[1;36m3\u001b[0m\u001b[1;33m]\u001b[0m\u001b[1;33m.\u001b[0m\u001b[0mimages\u001b[0m\u001b[1;33m\u001b[0m\u001b[0m\n\u001b[0m",
      "\u001b[1;31mIndexError\u001b[0m: list index out of range"
     ]
    }
   ],
   "source": [
    "# list of images (PNG, JPG, etc.) in directory #3\n",
    "dirs[3].images"
   ]
  },
  {
   "cell_type": "code",
   "execution_count": null,
   "metadata": {
    "collapsed": false
   },
   "outputs": [],
   "source": [
    "# clickable thumbnails of same\n",
    "dirs[3].images.thumbs(ncol=6)"
   ]
  },
  {
   "cell_type": "code",
   "execution_count": null,
   "metadata": {
    "collapsed": false
   },
   "outputs": [],
   "source": [
    "# first FITS file in directory #0. Stokes axis is unrolled by default, but this can be controlled by\n",
    "# invoking dirs[0].fits[0].show() with some extra arguments\n",
    "dirs[0].fits[0]"
   ]
  },
  {
   "cell_type": "code",
   "execution_count": null,
   "metadata": {
    "collapsed": false
   },
   "outputs": [],
   "source": [
    "# and this shows how to invoke show() with some explicit arguments to control the rendering\n",
    "dirs[0].fits[0].show(unroll=None,vmin=-5e-5,vmax=5e-5,zoom=4)"
   ]
  },
  {
   "cell_type": "code",
   "execution_count": null,
   "metadata": {
    "collapsed": false
   },
   "outputs": [],
   "source": [
    "# just some info about the given file\n",
    "dirs[0].fits[0].info()"
   ]
  },
  {
   "cell_type": "code",
   "execution_count": null,
   "metadata": {
    "collapsed": false
   },
   "outputs": [],
   "source": [
    "# A more elaborate rendering of the same file using aplpy. Note that .fullpath gives you the path to the file.\n",
    "# aplpy is quite slow so we don't use it by default for all files, but this example shows you how to do\n",
    "# a proper rendering\n",
    "fig = aplpy.FITSFigure(dirs[0].fits[0].fullpath,slices=[0,0])\n",
    "fig.show_colorscale(cmap='gist_heat',vmin=-5e-5,vmax=5e-5)\n",
    "fig.add_colorbar()"
   ]
  }
 ],
 "metadata": {
  "kernelspec": {
   "display_name": "Python 2",
   "language": "python",
   "name": "python2"
  },
  "language_info": {
   "codemirror_mode": {
    "name": "ipython",
    "version": 2
   },
   "file_extension": ".py",
   "mimetype": "text/x-python",
   "name": "python",
   "nbconvert_exporter": "python",
   "pygments_lexer": "ipython2",
   "version": "2.7.6"
  }
 },
 "nbformat": 4,
 "nbformat_minor": 0
}
